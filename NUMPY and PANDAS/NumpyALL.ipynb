{
 "cells": [
  {
   "cell_type": "code",
   "execution_count": 1,
   "id": "0961f5bb",
   "metadata": {},
   "outputs": [
    {
     "name": "stdout",
     "output_type": "stream",
     "text": [
      "   0  1\n",
      "0  1  2\n",
      "1  3  4\n"
     ]
    }
   ],
   "source": [
    "import pandas as pd\n",
    "\n",
    "details = [[1,2],[3,4]]\n",
    "  \n",
    "df = pd.DataFrame(details)\n",
    "  \n",
    "print(df)"
   ]
  },
  {
   "cell_type": "code",
   "execution_count": 4,
   "id": "8a81657a",
   "metadata": {},
   "outputs": [
    {
     "name": "stdout",
     "output_type": "stream",
     "text": [
      "2021-05-01\n",
      "2021-05-02\n",
      "2021-05-03\n",
      "2021-05-04\n",
      "2021-05-05\n",
      "2021-05-06\n",
      "2021-05-07\n",
      "2021-05-08\n",
      "2021-05-09\n",
      "2021-05-10\n",
      "2021-05-11\n",
      "2021-05-12\n"
     ]
    }
   ],
   "source": [
    "import pandas as pd\n",
    "\n",
    "sr = pd.Series(pd.date_range('2021-05-01','2021-05-12',freq = 'D'))\n",
    "# To avoid dtype\n",
    "# Series.to_string\n",
    "print(sr.to_string(index=False))"
   ]
  },
  {
   "cell_type": "code",
   "execution_count": 5,
   "id": "3f362e1d",
   "metadata": {},
   "outputs": [
    {
     "name": "stdout",
     "output_type": "stream",
     "text": [
      "['a', 'b', 'c']\n"
     ]
    }
   ],
   "source": [
    "import pandas as pd\n",
    "\n",
    "names = ['a','b','c']\n",
    "x = pd.Series(names)\n",
    "print(names)"
   ]
  },
  {
   "cell_type": "code",
   "execution_count": 6,
   "id": "d1018a99",
   "metadata": {},
   "outputs": [
    {
     "name": "stdout",
     "output_type": "stream",
     "text": [
      "  Name  Age\n",
      "0    a   24\n",
      "1    b   25\n",
      "2    c   26\n",
      "3    d   27\n"
     ]
    }
   ],
   "source": [
    "import pandas as pd\n",
    "\n",
    "details = {\n",
    "    'Name' : ['a','b','c','d'],\n",
    "    'Age' : [24,25,26,27],\n",
    "}\n",
    "  \n",
    "\n",
    "df = pd.DataFrame(details)\n",
    "  \n",
    "print(df)"
   ]
  },
  {
   "cell_type": "code",
   "execution_count": 7,
   "id": "0bfea889",
   "metadata": {},
   "outputs": [
    {
     "name": "stdout",
     "output_type": "stream",
     "text": [
      "  Name  Age  Rank\n",
      "0    e    1     0\n",
      "1    a    2     1\n",
      "2    a    1     2\n",
      "3    b    3     3\n",
      "4    c    3     4\n",
      "5    d    4     5\n",
      "SORTED DATAFRAME\n",
      "  Name  Age  Rank\n",
      "2    a    1     2\n",
      "1    a    2     1\n",
      "3    b    3     3\n",
      "4    c    3     4\n",
      "5    d    4     5\n",
      "0    e    1     0\n"
     ]
    }
   ],
   "source": [
    "import pandas as pd\n",
    "\n",
    "df = pd.DataFrame({'Name': ['e','a','a','b','c','d'],\n",
    "                   'Age': [1,2,1,3,3,4],\n",
    "                   'Rank': [0,1,2,3,4,5]})\n",
    "\n",
    "print(df.to_string())\n",
    "\n",
    "print('SORTED DATAFRAME')\n",
    "df = df.sort_values(by=['Name','Age'], ascending=[True,True])\n",
    "\n",
    "print(df.to_string())"
   ]
  },
  {
   "cell_type": "code",
   "execution_count": 8,
   "id": "6e503fdf",
   "metadata": {},
   "outputs": [
    {
     "name": "stdout",
     "output_type": "stream",
     "text": [
      "   Name  Age  Rank\n",
      "e1    e    1     0\n",
      "a1    a    2     1\n",
      "b1    a    1     2\n",
      "f1    b    3     3\n",
      "d1    c    3     4\n",
      "c1    d    4     5\n",
      "  Name  Age  Rank\n",
      "0    e    1     0\n",
      "1    a    2     1\n",
      "2    a    1     2\n",
      "3    b    3     3\n",
      "4    c    3     4\n",
      "5    d    4     5\n"
     ]
    }
   ],
   "source": [
    "import pandas as pd\n",
    "\n",
    "data = {'Name': ['e','a','a','b','c','d'],\n",
    "                   'Age': [1,2,1,3,3,4],\n",
    "                   'Rank': [0,1,2,3,4,5]}\n",
    "\n",
    "index = {'a1', 'b1', 'c1', 'd1', 'e1','f1'}\n",
    "\n",
    "df = pd.DataFrame(data,index)\n",
    "#df.reset_index(inplace = True)\n",
    "print(df.to_string())\n",
    "df.reset_index(inplace = True, drop = True)\n",
    "print(df.to_string())"
   ]
  },
  {
   "cell_type": "code",
   "execution_count": 9,
   "id": "2a614670",
   "metadata": {},
   "outputs": [
    {
     "name": "stdout",
     "output_type": "stream",
     "text": [
      "  Name  Age\n",
      "0    a   24\n",
      "1    b   25\n"
     ]
    }
   ],
   "source": [
    "import pandas as pd\n",
    "\n",
    "details = {\n",
    "    'Name' : ['a','b','c','d'],\n",
    "    'Age' : [24,25,26,27],\n",
    "}\n",
    "  \n",
    "\n",
    "df = pd.DataFrame(details)\n",
    "  \n",
    "print(df[:2])"
   ]
  },
  {
   "cell_type": "code",
   "execution_count": 11,
   "id": "752b4ce2",
   "metadata": {},
   "outputs": [
    {
     "name": "stdout",
     "output_type": "stream",
     "text": [
      "  Name Occupation  Salary\n",
      "0    a         A1      20\n",
      "1    b         A1      30\n",
      "2    c         A1      40\n",
      "3    d         B1      27\n",
      "4    e         B1      23\n",
      "Average salary per occupation : \n",
      "Occupation\n",
      "A1    30.0\n",
      "B1    25.0\n",
      "Name: Salary, dtype: float64\n"
     ]
    }
   ],
   "source": [
    "import pandas as pd\n",
    "\n",
    "details = {\n",
    "    'Name' : ['a','b','c','d','e'],\n",
    "    'Occupation' : ['A1','A1','A1','B1','B1'],\n",
    "    'Salary' : [20,30,40,27,23],\n",
    "}\n",
    "  \n",
    "\n",
    "df = pd.DataFrame(details)\n",
    "print(df)\n",
    "occ_average_age = df.groupby('Occupation')['Salary'].mean()\n",
    "print(\"Average salary per occupation : \")\n",
    "print(occ_average_age)"
   ]
  },
  {
   "cell_type": "code",
   "execution_count": 12,
   "id": "55e8dd3d",
   "metadata": {},
   "outputs": [
    {
     "name": "stdout",
     "output_type": "stream",
     "text": [
      "   Set_of_Numbers\n",
      "0             2.0\n",
      "1             3.0\n",
      "2             5.0\n",
      "3             7.0\n",
      "4            11.0\n",
      "5            13.0\n",
      "6             0.0\n",
      "7            19.0\n",
      "8            23.0\n",
      "9             0.0\n"
     ]
    }
   ],
   "source": [
    "import pandas as pd\n",
    "import numpy as np\n",
    "\n",
    "nums = {'Set_of_Numbers': [2, 3, 5, 7, 11, 13,np.nan, 19, 23, np.nan]}\n",
    "df = pd.DataFrame(nums, columns =['Set_of_Numbers'])\n",
    "df['Set_of_Numbers'] = df['Set_of_Numbers'].fillna(0)\n",
    "print(df)"
   ]
  },
  {
   "cell_type": "code",
   "execution_count": null,
   "id": "444668c3",
   "metadata": {},
   "outputs": [],
   "source": []
  }
 ],
 "metadata": {
  "kernelspec": {
   "display_name": "Python 3 (ipykernel)",
   "language": "python",
   "name": "python3"
  },
  "language_info": {
   "codemirror_mode": {
    "name": "ipython",
    "version": 3
   },
   "file_extension": ".py",
   "mimetype": "text/x-python",
   "name": "python",
   "nbconvert_exporter": "python",
   "pygments_lexer": "ipython3",
   "version": "3.9.7"
  }
 },
 "nbformat": 4,
 "nbformat_minor": 5
}
