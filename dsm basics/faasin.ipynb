{
 "cells": [
  {
   "cell_type": "code",
   "execution_count": 1,
   "id": "99b41cfa",
   "metadata": {},
   "outputs": [
    {
     "ename": "SyntaxError",
     "evalue": "Missing parentheses in call to 'print'. Did you mean print(\"hello world\")? (Temp/ipykernel_13096/3923495743.py, line 1)",
     "output_type": "error",
     "traceback": [
      "\u001b[1;36m  File \u001b[1;32m\"C:\\Users\\AWH5~1\\AppData\\Local\\Temp/ipykernel_13096/3923495743.py\"\u001b[1;36m, line \u001b[1;32m1\u001b[0m\n\u001b[1;33m    print \"hello world\"\u001b[0m\n\u001b[1;37m          ^\u001b[0m\n\u001b[1;31mSyntaxError\u001b[0m\u001b[1;31m:\u001b[0m Missing parentheses in call to 'print'. Did you mean print(\"hello world\")?\n"
     ]
    }
   ],
   "source": [
    "print \"hello world\""
   ]
  },
  {
   "cell_type": "code",
   "execution_count": 2,
   "id": "aff9a3e9",
   "metadata": {},
   "outputs": [
    {
     "name": "stdout",
     "output_type": "stream",
     "text": [
      "hello world\n"
     ]
    }
   ],
   "source": [
    "print (\"hello world\")"
   ]
  },
  {
   "cell_type": "code",
   "execution_count": 3,
   "id": "5a1162b4",
   "metadata": {},
   "outputs": [
    {
     "name": "stdout",
     "output_type": "stream",
     "text": [
      "the sum of 10 and 30 is 40\n"
     ]
    }
   ],
   "source": [
    "num1=10\n",
    "num2=30\n",
    "sum=num1+num2\n",
    "print(\"the sum of\",num1,\"and\",num2,\"is\",sum)"
   ]
  },
  {
   "cell_type": "code",
   "execution_count": 4,
   "id": "afbd16d5",
   "metadata": {},
   "outputs": [
    {
     "name": "stdout",
     "output_type": "stream",
     "text": [
      "enter first number40\n",
      "enter second number48\n",
      " 88\n"
     ]
    }
   ],
   "source": [
    "num1=int(input(\"enter first number\"))\n",
    "num2=int(input(\"enter second number\"))\n",
    "sum=num1+num2\n",
    "print (\"\",sum)"
   ]
  },
  {
   "cell_type": "code",
   "execution_count": 5,
   "id": "93461603",
   "metadata": {},
   "outputs": [
    {
     "name": "stdout",
     "output_type": "stream",
     "text": [
      "enter first number56\n",
      "enter second number45\n",
      " 5645\n"
     ]
    }
   ],
   "source": [
    "num1=input(\"enter first number\")\n",
    "num2=input(\"enter second number\")\n",
    "sum=num1+num2\n",
    "print (\"\",sum)"
   ]
  },
  {
   "cell_type": "code",
   "execution_count": 6,
   "id": "4df08620",
   "metadata": {},
   "outputs": [
    {
     "name": "stderr",
     "output_type": "stream",
     "text": [
      "'pip--version' is not recognized as an internal or external command,\n",
      "operable program or batch file.\n"
     ]
    }
   ],
   "source": [
    "! pip--version"
   ]
  },
  {
   "cell_type": "code",
   "execution_count": 7,
   "id": "ee024de3",
   "metadata": {},
   "outputs": [
    {
     "name": "stderr",
     "output_type": "stream",
     "text": [
      "ERROR: unknown command \"version\"\n",
      "\n"
     ]
    }
   ],
   "source": [
    "! pip -- version"
   ]
  },
  {
   "cell_type": "code",
   "execution_count": 8,
   "id": "aeb3f13f",
   "metadata": {},
   "outputs": [
    {
     "name": "stdout",
     "output_type": "stream",
     "text": [
      "pip 21.2.4 from C:\\ProgramData\\Anaconda3\\lib\\site-packages\\pip (python 3.9)\n",
      "\n"
     ]
    }
   ],
   "source": [
    "!pip --version"
   ]
  },
  {
   "cell_type": "code",
   "execution_count": 9,
   "id": "73408460",
   "metadata": {},
   "outputs": [
    {
     "name": "stdout",
     "output_type": "stream",
     "text": [
      "menu\n",
      "1.addition\n",
      "2.substraction\n",
      "3.multiplication\n",
      "4.division\n",
      "enter choice(1/2/3/4): 2\n",
      "enter first number56\n",
      "enter first number34\n",
      " 22\n"
     ]
    }
   ],
   "source": [
    "def add(num1,num2):\n",
    "    return num1+num2\n",
    "def substract(num1,num2):\n",
    "    return num1-num2\n",
    "def multiply(num1,num2):\n",
    "    return num1*num2\n",
    "def divide(num1,num2):\n",
    "    if num2==0:\n",
    "        return \"cant divide\"\n",
    "    return num1/num2\n",
    "\n",
    "print(\"menu\")\n",
    "print(\"1.addition\")\n",
    "print(\"2.substraction\")\n",
    "print(\"3.multiplication\")\n",
    "print(\"4.division\")\n",
    "choice = input(\"enter choice(1/2/3/4): \")\n",
    "num1=int(input(\"enter first number\"))\n",
    "num2=int(input(\"enter first number\"))\n",
    "if choice == '1':\n",
    "    result=add(num1,num2)\n",
    "    print(\"\",result)\n",
    "elif choice == '2':\n",
    "    result=substract(num1,num2)\n",
    "    print(\"\",result)\n",
    "elif choice == '3':\n",
    "    result=multiply(num1,num2)\n",
    "    print(\"\",result)\n",
    "elif choice == '4':\n",
    "    result=division(num1,num2)\n",
    "    print(\"\",result)\n",
    "else:\n",
    "    print(\"invalid input\")"
   ]
  },
  {
   "cell_type": "code",
   "execution_count": 10,
   "id": "63a5ca78",
   "metadata": {},
   "outputs": [
    {
     "name": "stdout",
     "output_type": "stream",
     "text": [
      "menu\n",
      "1.addition\n",
      "2.substraction\n",
      "3.multiplication\n",
      "4.division\n",
      "enter choice(1/2/3/4): 1\n",
      "enter first number56\n",
      "enter first number90\n",
      " 146\n"
     ]
    }
   ],
   "source": [
    "def add(num1,num2):\n",
    "    return num1+num2\n",
    "def substract(num1,num2):\n",
    "    return num1-num2\n",
    "def multiply(num1,num2):\n",
    "    return num1*num2\n",
    "def divide(num1,num2):\n",
    "    if num2==0:\n",
    "        return \"cant divide\"\n",
    "    return num1/num2\n",
    "\n",
    "print(\"menu\")\n",
    "print(\"1.addition\")\n",
    "print(\"2.substraction\")\n",
    "print(\"3.multiplication\")\n",
    "print(\"4.division\")\n",
    "choice = input(\"enter choice(1/2/3/4): \")\n",
    "num1=int(input(\"enter first number\"))\n",
    "num2=int(input(\"enter first number\"))\n",
    "if choice == '1':\n",
    "    result=add(num1,num2)\n",
    "    print(\"\",result)\n",
    "elif choice == '2':\n",
    "    result=substract(num1,num2)\n",
    "    print(\"\",result)\n",
    "elif choice == '3':\n",
    "    result=multiply(num1,num2)\n",
    "    print(\"\",result)\n",
    "elif choice == '4':\n",
    "    result=division(num1,num2)\n",
    "    print(\"\",result)\n",
    "else:\n",
    "    print(\"invalid input\")"
   ]
  },
  {
   "cell_type": "code",
   "execution_count": null,
   "id": "934536be",
   "metadata": {},
   "outputs": [],
   "source": []
  }
 ],
 "metadata": {
  "kernelspec": {
   "display_name": "Python 3 (ipykernel)",
   "language": "python",
   "name": "python3"
  },
  "language_info": {
   "codemirror_mode": {
    "name": "ipython",
    "version": 3
   },
   "file_extension": ".py",
   "mimetype": "text/x-python",
   "name": "python",
   "nbconvert_exporter": "python",
   "pygments_lexer": "ipython3",
   "version": "3.9.7"
  }
 },
 "nbformat": 4,
 "nbformat_minor": 5
}
